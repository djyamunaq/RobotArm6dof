{
  "nbformat": 4,
  "nbformat_minor": 0,
  "metadata": {
    "colab": {
      "provenance": [],
      "collapsed_sections": [],
      "authorship_tag": "ABX9TyOuHsJOwIfMMNNxaEOwUEes",
      "include_colab_link": true
    },
    "kernelspec": {
      "name": "python3",
      "display_name": "Python 3"
    },
    "language_info": {
      "name": "python"
    }
  },
  "cells": [
    {
      "cell_type": "markdown",
      "metadata": {
        "id": "view-in-github",
        "colab_type": "text"
      },
      "source": [
        "<a href=\"https://colab.research.google.com/github/djyamunaq/RobotArm6dof/blob/main/6dof_Robot.ipynb\" target=\"_parent\"><img src=\"https://colab.research.google.com/assets/colab-badge.svg\" alt=\"Open In Colab\"/></a>"
      ]
    },
    {
      "cell_type": "code",
      "source": [
        "import numpy as np\n",
        "from math import cos, sin, pi"
      ],
      "metadata": {
        "id": "gBMJEMmlGnoE"
      },
      "execution_count": null,
      "outputs": []
    },
    {
      "cell_type": "code",
      "source": [
        "# DH parameters\n",
        "a = [0.0, 0.0, 0.0, 0.0825, -0.0825, 0, 0.088]\n",
        "d = [0.333, 0.0, 0.316, 0, 0.384, 0, 0]\n",
        "alpha = [0, -pi/2, pi/2, pi/2, -pi/2, pi/2, pi/2, 0]"
      ],
      "metadata": {
        "id": "kLBejuFJGs58"
      },
      "execution_count": null,
      "outputs": []
    },
    {
      "cell_type": "code",
      "execution_count": null,
      "metadata": {
        "id": "wTIsoDzbuim_"
      },
      "outputs": [],
      "source": [
        "def calculate_position(qIn):\n",
        "  Ts = []\n",
        "\n",
        "  T = np.identity(4)\n",
        "\n",
        "  # ...----o----... => ...(Link i-1)(Joint i)(Link i)...\n",
        "  # For each link i\n",
        "  for i in range(0, 7):\n",
        "    l0 = [cos(qIn[i]), -sin(qIn[i]), 0, a[i]]\n",
        "    l1 = [sin(qIn[i])*cos(alpha[i]), cos(qIn[i])*cos(alpha[i]), -sin(alpha[i]), -d[i]*sin(alpha[i])]\n",
        "    l2 = [sin(qIn[i])*sin(alpha[i]), cos(qIn[i])*sin(alpha[i]), cos(alpha[i]), d[i]*cos(alpha[i])]\n",
        "    l3 = [0, 0, 0, 1]\n",
        "    Tcurr = np.matrix([l0, l1, l2, l3])\n",
        "    Tcurr[abs(Tcurr) < 1e-10] = 0\n",
        "\n",
        "    Ts.append(Tcurr.copy())\n",
        "\n",
        "    T = np.dot(T, Tcurr)\n",
        "\n",
        "  # for i in range(0, 7):\n",
        "  #   print('=======================================================================')\n",
        "  #   print('T(', i, ', ', i+1, ')')\n",
        "  #   print(Ts[i])\n",
        "\n",
        "  # print('=======================================================================')\n",
        "  # print('T(', 0, ', ', 7, ')')\n",
        "  T[abs(T) < 1e-10] = 0\n",
        "  # print(T)\n",
        "  return T"
      ]
    },
    {
      "cell_type": "code",
      "source": [
        "# Jacobian calculation\n",
        "  # Jpi = Zi-1 x (pe - pi-1)\n",
        "  # Joi = Zi-1\n",
        "  # Zi = 0R1(q1) * ... * i-1Ri(qi-1)*z0 (z0 = [0 0 1]' --> 3rd col)\n",
        "  # pe = 0Te * [0 0 0 1] (4th col of Transformation Matrix)\n",
        "  # pi-1 = 0Ti-1 * [0 0 0 1] (4th col of Transformation Matrix from frame 0 to i-1)\n",
        "  # J = [Jp Jo]' =\n",
        "  # dp/dt = sum from i=0 to n(Jpi x dq/dt)\n",
        "  # w = sum from i=0 to n(Joi * dq/dt)\n",
        "\n",
        "J = np.zeros([6, 7])\n",
        "\n",
        "pe = np.array([T[i, -1] for i in range(0, 3)])\n",
        "p0 = np.array([0, 0, 0])\n",
        "z0 = np.array([0, 0, 1])\n",
        "\n",
        "# Calculate each J(i+1)\n",
        "for i in range(0, 7):\n",
        "  # print('=== Joint ', i, '===')\n",
        "\n",
        "  # Calculate Zi\n",
        "  X = np.identity(4)\n",
        "  for j in range(0, i+1):\n",
        "    # Transformation Matrix jT(j+1)\n",
        "    X = X*Ts[j]\n",
        "\n",
        "  z = np.array([X[j, -2].copy() for j in range(0, 3)])\n",
        "  p = np.array([X[j, -1].copy() for j in range(0, 3)])\n",
        "\n",
        "  Jpi = np.cross(z, (pe - p))\n",
        " \n",
        "  # print(Jpi, end='\\n\\n')\n",
        "\n",
        "  Joi = z.copy()\n",
        "\n",
        "  # print('====== J', i, '======')\n",
        "  J[:, i] = np.concatenate([Jpi, Joi]) \n",
        "  # print(J[:, i-1])\n",
        "\n",
        "J\n"
      ],
      "metadata": {
        "id": "IOiRYMhFdtlm",
        "colab": {
          "base_uri": "https://localhost:8080/"
        },
        "outputId": "6d7f6f41-f7c1-4f15-ea44-1053ec874f91"
      },
      "execution_count": null,
      "outputs": [
        {
          "output_type": "execute_result",
          "data": {
            "text/plain": [
              "array([[ 0.    ,  0.7   ,  0.    , -0.384 ,  0.    , -0.    ,  0.    ],\n",
              "       [ 0.088 ,  0.    ,  0.088 ,  0.    ,  0.088 ,  0.    , -0.    ],\n",
              "       [ 0.    , -0.088 ,  0.    ,  0.0055,  0.    ,  0.088 ,  0.    ],\n",
              "       [ 0.    ,  0.    ,  0.    ,  0.    ,  0.    ,  0.    ,  0.    ],\n",
              "       [ 0.    ,  1.    ,  0.    , -1.    ,  0.    , -1.    ,  0.    ],\n",
              "       [ 1.    ,  0.    ,  1.    ,  0.    ,  1.    ,  0.    , -1.    ]])"
            ]
          },
          "metadata": {},
          "execution_count": 76
        }
      ]
    },
    {
      "cell_type": "code",
      "source": [
        "# End-effector position\n",
        "pe = np.array([0.088, 0, 1.033])\n",
        "\n",
        "# Joint 1\n",
        "T01 = Ts[0]\n",
        "z1 = np.array([T01[j, -2].copy() for j in range(0, 3)])\n",
        "p1 = np.array([T01[j, -1].copy() for j in range(0, 3)])\n",
        "\n",
        "Jp1 = np.cross(z1, (pe - p1))\n",
        "\n",
        "print('=== Joint 1 ===')\n",
        "print(Jp1)\n",
        "\n",
        "# Joint 2\n",
        "T02 = T01*Ts[1]\n",
        "z2 = np.array([T02[j, -2].copy() for j in range(0, 3)])\n",
        "p2 = np.array([T02[j, -1].copy() for j in range(0, 3)])\n",
        "\n",
        "Jp2 = np.cross(z2, (pe - p2))\n",
        "\n",
        "print('=== Joint 2 ===')\n",
        "print(Jp2)\n",
        "\n",
        "# Joint 3\n",
        "T03 = T02*Ts[2]\n",
        "z3 = np.array([T03[j, -2].copy() for j in range(0, 3)])\n",
        "p3 = np.array([T03[j, -1].copy() for j in range(0, 3)])\n",
        "\n",
        "Jp3 = np.cross(z3, (pe - p3))\n",
        "\n",
        "print('=== Joint 3 ===')\n",
        "print(Jp3)\n",
        "\n",
        "# Joint 4\n",
        "T04 = T03*Ts[3]\n",
        "z4 = np.array([T04[j, -2].copy() for j in range(0, 3)])\n",
        "p4 = np.array([T04[j, -1].copy() for j in range(0, 3)])\n",
        "\n",
        "Jp4 = np.cross(z4, (pe - p4))\n",
        "\n",
        "print('=== Joint 4 ===')\n",
        "print(Jp4)\n",
        "\n",
        "# Joint 5\n",
        "T05 = T04*Ts[4]\n",
        "z5 = np.array([T05[j, -2].copy() for j in range(0, 3)])\n",
        "p5 = np.array([T05[j, -1].copy() for j in range(0, 3)])\n",
        "\n",
        "Jp5 = np.cross(z5, (pe - p5))\n",
        "\n",
        "print('=== Joint 5 ===')\n",
        "print(Jp5)\n",
        "\n",
        "# Joint 6\n",
        "T06 = T05*Ts[5]\n",
        "z6 = np.array([T06[j, -2].copy() for j in range(0, 3)])\n",
        "p6 = np.array([T06[j, -1].copy() for j in range(0, 3)])\n",
        "\n",
        "Jp6 = np.cross(z6, (pe - p6))\n",
        "\n",
        "print('=== Joint 6 ===')\n",
        "print(Jp6)\n",
        "\n",
        "# Joint 5\n",
        "T07 = T06*Ts[6]\n",
        "z7 = np.array([T07[j, -2].copy() for j in range(0, 3)])\n",
        "p7 = np.array([T07[j, -1].copy() for j in range(0, 3)])\n",
        "\n",
        "Jp7 = np.cross(z7, (pe - p7))\n",
        "\n",
        "print('=== Joint 7 ===')\n",
        "print(Jp7)\n",
        "\n",
        "\n",
        "\n",
        "\n"
      ],
      "metadata": {
        "colab": {
          "base_uri": "https://localhost:8080/"
        },
        "id": "mGQDhyNAcCjT",
        "outputId": "cc232853-694a-4670-e014-118eec5a8b22"
      },
      "execution_count": null,
      "outputs": [
        {
          "output_type": "stream",
          "name": "stdout",
          "text": [
            "=== Joint 1 ===\n",
            "[0.    0.088 0.   ]\n",
            "=== Joint 2 ===\n",
            "[ 0.7    0.    -0.088]\n",
            "=== Joint 3 ===\n",
            "[0.    0.088 0.   ]\n",
            "=== Joint 4 ===\n",
            "[-0.384   0.      0.0055]\n",
            "=== Joint 5 ===\n",
            "[0.    0.088 0.   ]\n",
            "=== Joint 6 ===\n",
            "[-0.     0.     0.088]\n",
            "=== Joint 7 ===\n",
            "[ 0. -0.  0.]\n"
          ]
        }
      ]
    },
    {
      "cell_type": "code",
      "source": [
        "np.cross(np.array([0, 0, 1]), np.array([0.088, 0, 0.7]))"
      ],
      "metadata": {
        "id": "UqFMourjflH5"
      },
      "execution_count": null,
      "outputs": []
    },
    {
      "cell_type": "code",
      "source": [
        "# Initial position\n",
        "qi = np.array([0, 0, 0, 0, 0, 0, 0])\n",
        "Ti = calculate_position(qi)\n",
        "pi = np.array([Ti[j, -1] for j in range(0, 3)])\n",
        "pi_m = np.array([-0.8177, 0, 1.0317])\n",
        "\n",
        "# Final position\n",
        "qf = np.array([1.21691,  0.20459,  2.66903,  1.59144, -3.04646,  1.77385, 0.732767])\n",
        "Tf = calculate_position(qf)\n",
        "pf = np.array([Tf[j, -1] for j in range(0, 3)])\n",
        "pf_m = np.array([-0.9028, 0.1143, 1.1156])\n",
        "\n",
        "print('Initial position:')\n",
        "print(pi)\n",
        "print('\\nFinal position:')\n",
        "print(pf)\n",
        "print('\\Measured delta:')\n",
        "print(pf_m - pi_m)\n",
        "\n"
      ],
      "metadata": {
        "colab": {
          "base_uri": "https://localhost:8080/"
        },
        "id": "OeuL2Ptwyr-g",
        "outputId": "16ce1615-76b1-4aa3-fb96-5dfd33a6a3fa"
      },
      "execution_count": null,
      "outputs": [
        {
          "output_type": "stream",
          "name": "stdout",
          "text": [
            "Initial position:\n",
            "[0.088 0.    1.033]\n",
            "\n",
            "Final position:\n",
            "[0.29976437 0.29974973 0.49972058]\n",
            "\\Measured delta:\n",
            "[-0.0851  0.1143  0.0839]\n"
          ]
        }
      ]
    }
  ]
}